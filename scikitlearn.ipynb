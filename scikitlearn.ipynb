{
  "nbformat": 4,
  "nbformat_minor": 0,
  "metadata": {
    "colab": {
      "provenance": []
    },
    "kernelspec": {
      "name": "python3",
      "display_name": "Python 3"
    },
    "language_info": {
      "name": "python"
    }
  },
  "cells": [
    {
      "cell_type": "code",
      "execution_count": 1,
      "metadata": {
        "colab": {
          "base_uri": "https://localhost:8080/"
        },
        "id": "Ys7LzEJeW2Il",
        "outputId": "c728e003-a465-4e9c-ee8a-81e9912cb829"
      },
      "outputs": [
        {
          "output_type": "stream",
          "name": "stdout",
          "text": [
            "acc: 0.87\n"
          ]
        }
      ],
      "source": [
        "#scikitlearn\n",
        "from sklearn.model_selection import train_test_split\n",
        "from sklearn.ensemble import AdaBoostClassifier\n",
        "from sklearn.datasets import make_classification\n",
        "from sklearn.metrics import accuracy_score\n",
        "x,y=make_classification(n_samples=1000,n_features=20,random_state=42)\n",
        "x_train,x_test,y_train,y_test=train_test_split(x,y,test_size=0.2,random_state=42)\n",
        "ada=AdaBoostClassifier(n_estimators=50,random_state=42)\n",
        "ada.fit(x_train,y_train)\n",
        "y_pre=ada.predict(x_test)\n",
        "acc=accuracy_score(y_test,y_pre)\n",
        "print(\"acc:\",acc)"
      ]
    }
  ]
}